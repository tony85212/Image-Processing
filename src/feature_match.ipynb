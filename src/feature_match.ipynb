{
 "cells": [
  {
   "cell_type": "markdown",
   "metadata": {},
   "source": [
    "# One to One Matching"
   ]
  },
  {
   "cell_type": "code",
   "execution_count": 4,
   "metadata": {},
   "outputs": [],
   "source": [
    "import os\n",
    "import cv2\n",
    "import PIL\n",
    "import numpy as np\n",
    "import pandas as pd\n",
    "import matplotlib.pyplot as plt\n",
    "import matplotlib.image as mpimg\n",
    "import torch\n",
    "import math\n",
    "import operator\n",
    "from tqdm import tqdm\n",
    "import torch.nn.functional as F\n",
    "from scipy.optimize import linear_sum_assignment"
   ]
  },
  {
   "cell_type": "markdown",
   "metadata": {},
   "source": [
    "# Load feature & keypoints"
   ]
  },
  {
   "cell_type": "code",
   "execution_count": 5,
   "metadata": {},
   "outputs": [
    {
     "name": "stdout",
     "output_type": "stream",
     "text": [
      "torch.Size([100, 17, 128])\n",
      "torch.Size([100, 17, 2])\n",
      "torch.Size([50, 17, 128])\n",
      "torch.Size([50, 17, 2])\n"
     ]
    }
   ],
   "source": [
    "train_features = torch.load(\"train_features.pth\")\n",
    "print(train_features.shape)\n",
    "train_keypoints = torch.load(\"train_keypoints.pth\")\n",
    "print(train_keypoints.shape)\n",
    "\n",
    "test_features = torch.load(\"test_features.pth\")\n",
    "print(test_features.shape)\n",
    "test_keypoints = torch.load(\"test_keypoints.pth\")\n",
    "print(test_keypoints.shape)"
   ]
  },
  {
   "cell_type": "markdown",
   "metadata": {},
   "source": [
    "# Mathching"
   ]
  },
  {
   "cell_type": "code",
   "execution_count": 23,
   "metadata": {},
   "outputs": [
    {
     "name": "stdout",
     "output_type": "stream",
     "text": [
      "[0, 50, 1, 51, 2, 52, 3, 53, 4, 54, 5, 55, 6, 56, 7, 57, 8, 58, 9, 59]\n"
     ]
    }
   ],
   "source": [
    "kps_num = 5\n",
    "ground_truth = [int(i/25) for i in range(50)]\n",
    "result = []\n",
    "dataset_size = 50\n",
    "dataset = []\n",
    "for i in range(dataset_size):\n",
    "    dataset.append(i)\n",
    "    dataset.append(i+50)\n",
    "\n",
    "#print(dataset)\n",
    "\n",
    "for q in range(50):\n",
    "    total_simi = []\n",
    "    img1 = test_features[q]\n",
    "    img1 = img1.view(kps_num, 1, 128).expand(kps_num, kps_num, 128).contiguous().view(kps_num*kps_num, 128)\n",
    "    for i in dataset:\n",
    "        img2 = train_features[i]\n",
    "\n",
    "\n",
    "        img2 = img2.view(1, kps_num, 128).expand(kps_num, kps_num, 128).contiguous().view(kps_num*kps_num, 128)\n",
    "\n",
    "        simi = (1 + F.cosine_similarity(img1, img2))/2\n",
    "        simi = simi.view(kps_num, kps_num)\n",
    "        cost = 1 - simi\n",
    "\n",
    "        row_ind, col_ind = linear_sum_assignment(cost.cpu().numpy())\n",
    "        total_simi.append(simi[row_ind, col_ind].sum())\n",
    "\n",
    "    coast = 0\n",
    "    forest = 0\n",
    "\n",
    "    for i in range(dataset_size*2):\n",
    "        if i%2 == 0: \n",
    "            coast += total_simi[i]\n",
    "        else:\n",
    "            forest += total_simi[i]\n",
    "    \n",
    "    if(coast > forest):\n",
    "        result.append(0)\n",
    "    else:\n",
    "        result.append(1)\n",
    "        "
   ]
  },
  {
   "cell_type": "markdown",
   "metadata": {},
   "source": [
    "# Evaluation"
   ]
  },
  {
   "cell_type": "code",
   "execution_count": 24,
   "metadata": {},
   "outputs": [
    {
     "name": "stdout",
     "output_type": "stream",
     "text": [
      "0.84\n"
     ]
    }
   ],
   "source": [
    "k = 0\n",
    "for i in range(len(ground_truth)):\n",
    "    if (result[i] == ground_truth[i]):\n",
    "        k += 1\n",
    "precise = k/len(ground_truth)\n",
    "print(precise)"
   ]
  },
  {
   "cell_type": "code",
   "execution_count": null,
   "metadata": {},
   "outputs": [],
   "source": []
  }
 ],
 "metadata": {
  "kernelspec": {
   "display_name": "Python 3",
   "language": "python",
   "name": "python3"
  },
  "language_info": {
   "codemirror_mode": {
    "name": "ipython",
    "version": 3
   },
   "file_extension": ".py",
   "mimetype": "text/x-python",
   "name": "python",
   "nbconvert_exporter": "python",
   "pygments_lexer": "ipython3",
   "version": "3.6.10"
  }
 },
 "nbformat": 4,
 "nbformat_minor": 4
}
